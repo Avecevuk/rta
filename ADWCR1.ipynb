{
 "cells": [
  {
   "cell_type": "code",
   "execution_count": 20,
   "id": "6522fde0-7a3b-4474-9a98-638d35b99cdf",
   "metadata": {},
   "outputs": [
    {
     "name": "stdout",
     "output_type": "stream",
     "text": [
      "Collecting kafka-python\n",
      "  Using cached kafka_python-2.2.3-py2.py3-none-any.whl.metadata (10.0 kB)\n",
      "Downloading kafka_python-2.2.3-py2.py3-none-any.whl (307 kB)\n",
      "Installing collected packages: kafka-python\n",
      "Successfully installed kafka-python-2.2.3\n",
      "Note: you may need to restart the kernel to use updated packages.\n"
     ]
    }
   ],
   "source": [
    "pip install kafka-python"
   ]
  },
  {
   "cell_type": "code",
   "execution_count": 22,
   "id": "0efeee9c-fac0-43b6-b7f2-f33806897b55",
   "metadata": {},
   "outputs": [
    {
     "name": "stdout",
     "output_type": "stream",
     "text": [
      "Requirement already satisfied: kafka-python in c:\\users\\micha\\anaconda3\\lib\\site-packages (2.2.3)\n"
     ]
    }
   ],
   "source": [
    "!pip install kafka-python"
   ]
  },
  {
   "cell_type": "code",
   "execution_count": 28,
   "id": "21172d1b-c4ac-4422-bfa4-bec3c491c65f",
   "metadata": {},
   "outputs": [
    {
     "name": "stdout",
     "output_type": "stream",
     "text": [
      "2.2.3\n"
     ]
    }
   ],
   "source": [
    "import kafka\n",
    "print(kafka.__version__)"
   ]
  },
  {
   "cell_type": "code",
   "execution_count": 30,
   "id": "7e4706a8-e765-4e7d-b431-8d5ca21b033b",
   "metadata": {},
   "outputs": [
    {
     "name": "stdout",
     "output_type": "stream",
     "text": [
      "Requirement already satisfied: kafka-python in c:\\users\\micha\\anaconda3\\lib\\site-packages (2.2.3)\n",
      "Note: you may need to restart the kernel to use updated packages.\n"
     ]
    }
   ],
   "source": [
    "pip install --user kafka-python"
   ]
  },
  {
   "cell_type": "code",
   "execution_count": null,
   "id": "011b4a1e-9f24-45a0-b141-d3b901941950",
   "metadata": {},
   "outputs": [],
   "source": []
  },
  {
   "cell_type": "code",
   "execution_count": 38,
   "id": "8cd18938-396e-4b19-bc56-e1256db5a8fb",
   "metadata": {},
   "outputs": [
    {
     "name": "stdout",
     "output_type": "stream",
     "text": [
      "Próba 1/5 - Broker niedostępny, czekam 5s...\n",
      "Próba 2/5 - Broker niedostępny, czekam 5s...\n",
      "Próba 3/5 - Broker niedostępny, czekam 5s...\n",
      "Próba 4/5 - Broker niedostępny, czekam 5s...\n",
      "Próba 5/5 - Broker niedostępny, czekam 5s...\n",
      "Nie można połączyć się z brokerem Kafka\n"
     ]
    }
   ],
   "source": [
    "import json\n",
    "import requests\n",
    "import sqlite3\n",
    "import time\n",
    "from kafka import KafkaConsumer, KafkaProducer\n",
    "from datetime import datetime\n",
    "\n",
    "# Konfiguracja - dostosuj jeśli Kafka nie działa na localhost\n",
    "KAFKA_BOOTSTRAP_SERVERS = 'localhost:9092'\n",
    "HYDRO_TOPIC = 'imgw-hydro-data'\n",
    "DATABASE_NAME = 'imgw_hydro_data.db'\n",
    "API_URL = 'https://danepubliczne.imgw.pl/api/data/hydro2/'\n",
    "\n",
    "def wait_for_kafka(max_retries=5, delay=5):\n",
    "    \"\"\"Czeka na dostępność brokera Kafka\"\"\"\n",
    "    for i in range(max_retries):\n",
    "        try:\n",
    "            producer = KafkaProducer(bootstrap_servers=KAFKA_BOOTSTRAP_SERVERS)\n",
    "            producer.close()\n",
    "            return True\n",
    "        except:\n",
    "            print(f\"Próba {i+1}/{max_retries} - Broker niedostępny, czekam {delay}s...\")\n",
    "            time.sleep(delay)\n",
    "    return False\n",
    "\n",
    "def create_database():\n",
    "    \"\"\"Tworzy bazę danych SQLite i tabelę dla danych hydrologicznych\"\"\"\n",
    "    conn = sqlite3.connect(DATABASE_NAME)\n",
    "    cursor = conn.cursor()\n",
    "    \n",
    "    cursor.execute('''\n",
    "    CREATE TABLE IF NOT EXISTS hydro_data (\n",
    "        id INTEGER PRIMARY KEY AUTOINCREMENT,\n",
    "        station_id TEXT,\n",
    "        station_name TEXT,\n",
    "        river TEXT,\n",
    "        water_level REAL,\n",
    "        water_status TEXT,\n",
    "        measurement_date TEXT,\n",
    "        timestamp DATETIME DEFAULT CURRENT_TIMESTAMP\n",
    "    )\n",
    "    ''')\n",
    "    \n",
    "    conn.commit()\n",
    "    conn.close()\n",
    "\n",
    "def fetch_hydro_data():\n",
    "    \"\"\"Pobiera dane hydrologiczne z API IMGW\"\"\"\n",
    "    try:\n",
    "        response = requests.get(API_URL)\n",
    "        response.raise_for_status()\n",
    "        return response.json()\n",
    "    except requests.exceptions.RequestException as e:\n",
    "        print(f\"Błąd podczas pobierania danych: {e}\")\n",
    "        return None\n",
    "\n",
    "def process_and_save_data(data):\n",
    "    \"\"\"Przetwarza i zapisuje dane do bazy danych\"\"\"\n",
    "    if not data:\n",
    "        return\n",
    "    \n",
    "    conn = sqlite3.connect(DATABASE_NAME)\n",
    "    cursor = conn.cursor()\n",
    "    \n",
    "    for record in data:\n",
    "        try:\n",
    "            cursor.execute('''\n",
    "            INSERT INTO hydro_data \n",
    "            (station_id, station_name, river, water_level, water_status, measurement_date)\n",
    "            VALUES (?, ?, ?, ?, ?, ?)\n",
    "            ''', (\n",
    "                record.get('id_stacji'),\n",
    "                record.get('stacja'),\n",
    "                record.get('rzeka'),\n",
    "                record.get('stan_wody'),\n",
    "                record.get('stan_wody_status'),\n",
    "                record.get('data_pomiaru')\n",
    "            ))\n",
    "        except Exception as e:\n",
    "            print(f\"Błąd podczas przetwarzania rekordu: {e}\")\n",
    "    \n",
    "    conn.commit()\n",
    "    conn.close()\n",
    "    print(f\"Zapisano {len(data)} rekordów do bazy danych\")\n",
    "\n",
    "def kafka_producer():\n",
    "    \"\"\"Producent Kafka wysyłający dane hydrologiczne\"\"\"\n",
    "    if not wait_for_kafka():\n",
    "        print(\"Nie można połączyć się z brokerem Kafka\")\n",
    "        return\n",
    "    \n",
    "    producer = KafkaProducer(\n",
    "        bootstrap_servers=KAFKA_BOOTSTRAP_SERVERS,\n",
    "        value_serializer=lambda v: json.dumps(v).encode('utf-8')\n",
    "    )\n",
    "    \n",
    "    data = fetch_hydro_data()\n",
    "    if data:\n",
    "        producer.send(HYDRO_TOPIC, value=data)\n",
    "        producer.flush()\n",
    "        print(\"Dane wysłane do Kafki\")\n",
    "\n",
    "def kafka_consumer():\n",
    "    \"\"\"Konsument Kafka odbierający i zapisujący dane\"\"\"\n",
    "    if not wait_for_kafka():\n",
    "        print(\"Nie można połączyć się z brokerem Kafka\")\n",
    "        return\n",
    "    \n",
    "    consumer = KafkaConsumer(\n",
    "        HYDRO_TOPIC,\n",
    "        bootstrap_servers=KAFKA_BOOTSTRAP_SERVERS,\n",
    "        auto_offset_reset='earliest',\n",
    "        enable_auto_commit=True,\n",
    "        value_deserializer=lambda x: json.loads(x.decode('utf-8')))\n",
    "    \n",
    "    print(\"Konsument uruchomiony, oczekiwanie na dane...\")\n",
    "    for message in consumer:\n",
    "        data = message.value\n",
    "        print(f\"Odebrano {len(data)} rekordów z Kafki\")\n",
    "        process_and_save_data(data)\n",
    "\n",
    "if __name__ == '__main__':\n",
    "    create_database()\n",
    "    \n",
    "    # Wybierz tryb działania: 'producer' lub 'consumer'\n",
    "    mode = 'consumer'  # Zmień na 'producer' aby wysyłać dane\n",
    "    \n",
    "    if mode == 'producer':\n",
    "        kafka_producer()\n",
    "    elif mode == 'consumer':\n",
    "        kafka_consumer()"
   ]
  }
 ],
 "metadata": {
  "kernelspec": {
   "display_name": "Python 3 (ipykernel)",
   "language": "python",
   "name": "python3"
  },
  "language_info": {
   "codemirror_mode": {
    "name": "ipython",
    "version": 3
   },
   "file_extension": ".py",
   "mimetype": "text/x-python",
   "name": "python",
   "nbconvert_exporter": "python",
   "pygments_lexer": "ipython3",
   "version": "3.12.7"
  }
 },
 "nbformat": 4,
 "nbformat_minor": 5
}
